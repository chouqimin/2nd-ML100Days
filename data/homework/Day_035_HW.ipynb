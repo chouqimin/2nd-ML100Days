{
 "cells": [
  {
   "cell_type": "markdown",
   "metadata": {},
   "source": [
    "## 練習時間\n",
    "相信大家對回歸問題及分類問題都有初步的了解。今天的作業希望大家搜尋有關 multi-label 的案例問題。下圖是電影 \"奇異博士\" 的分類。可以看到同時有 \"Action\", \"Adventure\", \"Fantasy\" 的類別存在，代表這是個多標籤的問題。 "
   ]
  },
  {
   "cell_type": "markdown",
   "metadata": {},
   "source": [
    "![image](https://cdn-images-1.medium.com/max/1000/1*r0gYXMSQf5VhdMyl2bRDyg.png)"
   ]
  },
  {
   "cell_type": "markdown",
   "metadata": {},
   "source": [
    "## 請搜尋目標為多標籤問題 (Multi-label) 的機器學習案例，了解其資料來源、目標以及評估指標為何\n",
    "[KAGGLE 實作1](https://www.kaggle.com/rhodiumbeng/classifying-multi-label-comments-0-9741-lb)\n",
    "\n",
    "[KAGGLE 實作2](https://zhuanlan.zhihu.com/p/34922134)\n",
    "\n",
    "[KAGGLE 實作3](https://zhuanlan.zhihu.com/p/34899693?group_id=961190993937268736)\n",
    "\n",
    "\n",
    "[kaggle 比賽題目:Toxic Comment Classification Challenge](https://www.kaggle.com/c/jigsaw-toxic-comment-classification-challenge) \n",
    "> 惡意評論\n",
    "\n",
    "\n",
    "資料來源 : KAGGLE提供\n",
    "\n",
    "標籤分別有 \n",
    "1. toxic(惡意)\n",
    "2. severetoxic(窮凶極惡)\n",
    "3. obscene(猥瑣)\n",
    "4. threat(恐嚇)\n",
    "5. insult(侮辱)\n",
    "6. identity hate(種族歧視)\n",
    "\n",
    "目標 : 算出每則評論中，每個標籤發生的機率\n",
    "\n",
    "評估指標 : accuracy_score"
   ]
  }
 ],
 "metadata": {
  "kernelspec": {
   "display_name": "Python 3",
   "language": "python",
   "name": "python3"
  },
  "language_info": {
   "codemirror_mode": {
    "name": "ipython",
    "version": 3
   },
   "file_extension": ".py",
   "mimetype": "text/x-python",
   "name": "python",
   "nbconvert_exporter": "python",
   "pygments_lexer": "ipython3",
   "version": "3.7.0"
  }
 },
 "nbformat": 4,
 "nbformat_minor": 2
}
