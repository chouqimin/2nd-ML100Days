{
 "cells": [
  {
   "cell_type": "markdown",
   "metadata": {},
   "source": [
    "## Work\n",
    "1. 試比較 save_best_only 與否的差異\n",
    "2. 請僅存入將 save_weights_only 設定為 True, 並嘗試 reset ipynb 並將模型與權重重新建回並預測 x_test"
   ]
  },
  {
   "cell_type": "code",
   "execution_count": 1,
   "metadata": {},
   "outputs": [
    {
     "name": "stderr",
     "output_type": "stream",
     "text": [
      "Using TensorFlow backend.\n"
     ]
    }
   ],
   "source": [
    "import os\n",
    "import keras\n",
    "\n",
    "# Disable GPU\n",
    "# os.environ[\"CUDA_VISIBLE_DEVICES\"] = \"\"\n",
    "\n",
    "os.environ[\"CUDA_DEVICE_ORDER\"] = \"PCI_BUS_ID\"\n",
    "os.environ[\"CUDA_VISIBLE_DEVICES\"] = \"0\""
   ]
  },
  {
   "cell_type": "code",
   "execution_count": 2,
   "metadata": {},
   "outputs": [],
   "source": [
    "train, test = keras.datasets.cifar10.load_data()"
   ]
  },
  {
   "cell_type": "code",
   "execution_count": 3,
   "metadata": {},
   "outputs": [],
   "source": [
    "## 資料前處理\n",
    "def preproc_x(x, flatten=True):\n",
    "    x = x / 255.\n",
    "    if flatten:\n",
    "        x = x.reshape((len(x), -1))\n",
    "    return x\n",
    "\n",
    "def preproc_y(y, num_classes=10):\n",
    "    if y.shape[-1] == 1:\n",
    "        y = keras.utils.to_categorical(y, num_classes)\n",
    "    return y    "
   ]
  },
  {
   "cell_type": "code",
   "execution_count": 4,
   "metadata": {},
   "outputs": [],
   "source": [
    "x_train, y_train = train\n",
    "x_test, y_test = test\n",
    "\n",
    "# Preproc the inputs\n",
    "x_train = preproc_x(x_train)\n",
    "x_test = preproc_x(x_test)\n",
    "\n",
    "# Preprc the outputs\n",
    "y_train = preproc_y(y_train)\n",
    "y_test = preproc_y(y_test)"
   ]
  },
  {
   "cell_type": "code",
   "execution_count": 5,
   "metadata": {},
   "outputs": [],
   "source": [
    "from keras.layers import BatchNormalization\n",
    "\n",
    "def build_mlp(input_shape, output_units=10, num_neurons=[512, 256, 128]):\n",
    "    \"\"\"Code Here\n",
    "    建立你的神經網路\n",
    "    \"\"\"\n",
    "    input_layer = keras.layers.Input(input_shape)\n",
    "    for i, n_units in enumerate(num_neurons):\n",
    "        if i == 0:\n",
    "            x = keras.layers.Dense(units=n_units, \n",
    "                                   activation=\"relu\", \n",
    "                                   name=\"hidden_layer\"+str(i+1))(input_layer)\n",
    "            x = BatchNormalization()(x)\n",
    "        else:\n",
    "            x = keras.layers.Dense(units=n_units, \n",
    "                                   activation=\"relu\", \n",
    "                                   name=\"hidden_layer\"+str(i+1))(x)\n",
    "            x = BatchNormalization()(x)\n",
    "    \n",
    "    out = keras.layers.Dense(units=output_units, activation=\"softmax\", name=\"output\")(x)\n",
    "    \n",
    "    model = keras.models.Model(inputs=[input_layer], outputs=[out])\n",
    "    return model"
   ]
  },
  {
   "cell_type": "code",
   "execution_count": 6,
   "metadata": {},
   "outputs": [],
   "source": [
    "\"\"\"Code Here\n",
    "設定超參數\n",
    "\"\"\"\n",
    "LEARNING_RATE = 1e-3\n",
    "EPOCHS = 50\n",
    "BATCH_SIZE = 1024\n",
    "MOMENTUM = 0.95"
   ]
  },
  {
   "cell_type": "code",
   "execution_count": 7,
   "metadata": {},
   "outputs": [
    {
     "name": "stderr",
     "output_type": "stream",
     "text": [
      "WARNING: Logging before flag parsing goes to stderr.\n",
      "W0723 01:57:40.558344 13028 deprecation_wrapper.py:119] From C:\\Users\\user\\Anaconda3\\lib\\site-packages\\keras\\backend\\tensorflow_backend.py:74: The name tf.get_default_graph is deprecated. Please use tf.compat.v1.get_default_graph instead.\n",
      "\n",
      "W0723 01:57:40.574339 13028 deprecation_wrapper.py:119] From C:\\Users\\user\\Anaconda3\\lib\\site-packages\\keras\\backend\\tensorflow_backend.py:517: The name tf.placeholder is deprecated. Please use tf.compat.v1.placeholder instead.\n",
      "\n",
      "W0723 01:57:40.577337 13028 deprecation_wrapper.py:119] From C:\\Users\\user\\Anaconda3\\lib\\site-packages\\keras\\backend\\tensorflow_backend.py:4138: The name tf.random_uniform is deprecated. Please use tf.random.uniform instead.\n",
      "\n",
      "W0723 01:57:40.660323 13028 deprecation_wrapper.py:119] From C:\\Users\\user\\Anaconda3\\lib\\site-packages\\keras\\backend\\tensorflow_backend.py:133: The name tf.placeholder_with_default is deprecated. Please use tf.compat.v1.placeholder_with_default instead.\n",
      "\n",
      "W0723 01:57:40.884252 13028 deprecation_wrapper.py:119] From C:\\Users\\user\\Anaconda3\\lib\\site-packages\\keras\\optimizers.py:790: The name tf.train.Optimizer is deprecated. Please use tf.compat.v1.train.Optimizer instead.\n",
      "\n",
      "W0723 01:57:40.892253 13028 deprecation_wrapper.py:119] From C:\\Users\\user\\Anaconda3\\lib\\site-packages\\keras\\backend\\tensorflow_backend.py:3295: The name tf.log is deprecated. Please use tf.math.log instead.\n",
      "\n",
      "W0723 01:57:40.990218 13028 deprecation.py:323] From C:\\Users\\user\\Anaconda3\\lib\\site-packages\\tensorflow\\python\\ops\\math_grad.py:1250: add_dispatch_support.<locals>.wrapper (from tensorflow.python.ops.array_ops) is deprecated and will be removed in a future version.\n",
      "Instructions for updating:\n",
      "Use tf.where in 2.0, which has the same broadcast rule as np.where\n"
     ]
    },
    {
     "name": "stdout",
     "output_type": "stream",
     "text": [
      "_________________________________________________________________\n",
      "Layer (type)                 Output Shape              Param #   \n",
      "=================================================================\n",
      "input_1 (InputLayer)         (None, 3072)              0         \n",
      "_________________________________________________________________\n",
      "hidden_layer1 (Dense)        (None, 512)               1573376   \n",
      "_________________________________________________________________\n",
      "batch_normalization_1 (Batch (None, 512)               2048      \n",
      "_________________________________________________________________\n",
      "hidden_layer2 (Dense)        (None, 256)               131328    \n",
      "_________________________________________________________________\n",
      "batch_normalization_2 (Batch (None, 256)               1024      \n",
      "_________________________________________________________________\n",
      "hidden_layer3 (Dense)        (None, 128)               32896     \n",
      "_________________________________________________________________\n",
      "batch_normalization_3 (Batch (None, 128)               512       \n",
      "_________________________________________________________________\n",
      "output (Dense)               (None, 10)                1290      \n",
      "=================================================================\n",
      "Total params: 1,742,474\n",
      "Trainable params: 1,740,682\n",
      "Non-trainable params: 1,792\n",
      "_________________________________________________________________\n",
      "Train on 50000 samples, validate on 10000 samples\n",
      "Epoch 1/50\n",
      "50000/50000 [==============================] - 4s 72us/step - loss: 2.2173 - acc: 0.2700 - val_loss: 2.0809 - val_acc: 0.3214\n",
      "Epoch 2/50\n",
      "50000/50000 [==============================] - 2s 38us/step - loss: 1.7398 - acc: 0.3937 - val_loss: 1.7939 - val_acc: 0.3833\n",
      "Epoch 3/50\n",
      "50000/50000 [==============================] - 2s 38us/step - loss: 1.6125 - acc: 0.4353 - val_loss: 1.6715 - val_acc: 0.4173\n",
      "Epoch 4/50\n",
      "50000/50000 [==============================] - 2s 37us/step - loss: 1.5385 - acc: 0.4623 - val_loss: 1.6175 - val_acc: 0.4364\n",
      "Epoch 5/50\n",
      "50000/50000 [==============================] - 2s 37us/step - loss: 1.4862 - acc: 0.4796 - val_loss: 1.5894 - val_acc: 0.4452\n",
      "Epoch 6/50\n",
      "50000/50000 [==============================] - 2s 38us/step - loss: 1.4400 - acc: 0.4961 - val_loss: 1.5664 - val_acc: 0.4510\n",
      "Epoch 7/50\n",
      "50000/50000 [==============================] - 2s 38us/step - loss: 1.4028 - acc: 0.5111 - val_loss: 1.5455 - val_acc: 0.4608\n",
      "Epoch 8/50\n",
      "50000/50000 [==============================] - 2s 38us/step - loss: 1.3689 - acc: 0.5234 - val_loss: 1.5316 - val_acc: 0.4602\n",
      "Epoch 9/50\n",
      "50000/50000 [==============================] - 2s 37us/step - loss: 1.3368 - acc: 0.5349 - val_loss: 1.5151 - val_acc: 0.4681\n",
      "Epoch 10/50\n",
      "50000/50000 [==============================] - 2s 38us/step - loss: 1.3076 - acc: 0.5458 - val_loss: 1.5157 - val_acc: 0.4617\n",
      "Epoch 11/50\n",
      "50000/50000 [==============================] - 2s 38us/step - loss: 1.2790 - acc: 0.5561 - val_loss: 1.5030 - val_acc: 0.4723\n",
      "Epoch 12/50\n",
      "50000/50000 [==============================] - 2s 38us/step - loss: 1.2523 - acc: 0.5669 - val_loss: 1.4866 - val_acc: 0.4727\n",
      "Epoch 13/50\n",
      "50000/50000 [==============================] - 2s 37us/step - loss: 1.2276 - acc: 0.5734 - val_loss: 1.4743 - val_acc: 0.4798\n",
      "Epoch 14/50\n",
      "50000/50000 [==============================] - 2s 37us/step - loss: 1.2000 - acc: 0.5852 - val_loss: 1.4770 - val_acc: 0.4831\n",
      "Epoch 15/50\n",
      "50000/50000 [==============================] - 2s 38us/step - loss: 1.1762 - acc: 0.5930 - val_loss: 1.4601 - val_acc: 0.4835\n",
      "Epoch 16/50\n",
      "50000/50000 [==============================] - 2s 37us/step - loss: 1.1528 - acc: 0.6030 - val_loss: 1.4630 - val_acc: 0.4882\n",
      "Epoch 17/50\n",
      "50000/50000 [==============================] - 2s 37us/step - loss: 1.1305 - acc: 0.6111 - val_loss: 1.4677 - val_acc: 0.4854\n",
      "Epoch 18/50\n",
      "50000/50000 [==============================] - 2s 37us/step - loss: 1.1064 - acc: 0.6204 - val_loss: 1.4609 - val_acc: 0.4908\n",
      "Epoch 19/50\n",
      "50000/50000 [==============================] - 2s 38us/step - loss: 1.0854 - acc: 0.6276 - val_loss: 1.4677 - val_acc: 0.4929\n",
      "Epoch 20/50\n",
      "50000/50000 [==============================] - 2s 37us/step - loss: 1.0629 - acc: 0.6373 - val_loss: 1.4517 - val_acc: 0.4978\n",
      "Epoch 21/50\n",
      "50000/50000 [==============================] - 2s 37us/step - loss: 1.0400 - acc: 0.6456 - val_loss: 1.4736 - val_acc: 0.4879\n",
      "Epoch 22/50\n",
      "50000/50000 [==============================] - 2s 37us/step - loss: 1.0197 - acc: 0.6536 - val_loss: 1.4494 - val_acc: 0.4981\n",
      "Epoch 23/50\n",
      "50000/50000 [==============================] - 2s 37us/step - loss: 0.9978 - acc: 0.6614 - val_loss: 1.4529 - val_acc: 0.4968\n",
      "Epoch 24/50\n",
      "50000/50000 [==============================] - 2s 37us/step - loss: 0.9776 - acc: 0.6695 - val_loss: 1.4595 - val_acc: 0.4952\n",
      "Epoch 25/50\n",
      "50000/50000 [==============================] - 2s 37us/step - loss: 0.9569 - acc: 0.6777 - val_loss: 1.4491 - val_acc: 0.4951\n",
      "Epoch 26/50\n",
      "50000/50000 [==============================] - 2s 37us/step - loss: 0.9373 - acc: 0.6855 - val_loss: 1.4640 - val_acc: 0.4995\n",
      "Epoch 27/50\n",
      "50000/50000 [==============================] - 2s 37us/step - loss: 0.9149 - acc: 0.6954 - val_loss: 1.4948 - val_acc: 0.4862\n",
      "Epoch 28/50\n",
      "50000/50000 [==============================] - 2s 37us/step - loss: 0.8976 - acc: 0.7003 - val_loss: 1.4682 - val_acc: 0.4966\n",
      "Epoch 29/50\n",
      "50000/50000 [==============================] - 2s 37us/step - loss: 0.8776 - acc: 0.7091 - val_loss: 1.4795 - val_acc: 0.4977\n",
      "Epoch 30/50\n",
      "50000/50000 [==============================] - 2s 37us/step - loss: 0.8573 - acc: 0.7165 - val_loss: 1.4808 - val_acc: 0.4953\n",
      "Epoch 31/50\n",
      "50000/50000 [==============================] - 2s 37us/step - loss: 0.8372 - acc: 0.7241 - val_loss: 1.4788 - val_acc: 0.4953\n",
      "Epoch 32/50\n",
      "50000/50000 [==============================] - 2s 37us/step - loss: 0.8191 - acc: 0.7318 - val_loss: 1.4724 - val_acc: 0.4972\n",
      "Epoch 33/50\n",
      "50000/50000 [==============================] - 2s 37us/step - loss: 0.7998 - acc: 0.7404 - val_loss: 1.4871 - val_acc: 0.4922\n",
      "Epoch 34/50\n",
      "50000/50000 [==============================] - 2s 37us/step - loss: 0.7779 - acc: 0.7487 - val_loss: 1.4912 - val_acc: 0.4977\n",
      "Epoch 35/50\n",
      "50000/50000 [==============================] - 2s 37us/step - loss: 0.7610 - acc: 0.7577 - val_loss: 1.5101 - val_acc: 0.4938\n",
      "Epoch 36/50\n",
      "50000/50000 [==============================] - 2s 37us/step - loss: 0.7422 - acc: 0.7626 - val_loss: 1.5096 - val_acc: 0.4926\n",
      "Epoch 37/50\n",
      "50000/50000 [==============================] - 2s 37us/step - loss: 0.7212 - acc: 0.7713 - val_loss: 1.5272 - val_acc: 0.4976\n",
      "Epoch 38/50\n",
      "50000/50000 [==============================] - 2s 37us/step - loss: 0.7032 - acc: 0.7791 - val_loss: 1.5386 - val_acc: 0.4933\n",
      "Epoch 39/50\n",
      "50000/50000 [==============================] - 2s 37us/step - loss: 0.6862 - acc: 0.7852 - val_loss: 1.5362 - val_acc: 0.4907\n",
      "Epoch 40/50\n",
      "50000/50000 [==============================] - 2s 37us/step - loss: 0.6694 - acc: 0.7912 - val_loss: 1.5510 - val_acc: 0.4926\n",
      "Epoch 41/50\n",
      "50000/50000 [==============================] - 2s 37us/step - loss: 0.6476 - acc: 0.8022 - val_loss: 1.5438 - val_acc: 0.4945\n",
      "Epoch 42/50\n",
      "50000/50000 [==============================] - 2s 37us/step - loss: 0.6331 - acc: 0.8064 - val_loss: 1.5657 - val_acc: 0.4926\n",
      "Epoch 43/50\n",
      "50000/50000 [==============================] - 2s 37us/step - loss: 0.6142 - acc: 0.8136 - val_loss: 1.5835 - val_acc: 0.4946\n",
      "Epoch 44/50\n",
      "50000/50000 [==============================] - 2s 37us/step - loss: 0.5960 - acc: 0.8207 - val_loss: 1.5956 - val_acc: 0.4889\n",
      "Epoch 45/50\n",
      "50000/50000 [==============================] - 2s 37us/step - loss: 0.5810 - acc: 0.8281 - val_loss: 1.5893 - val_acc: 0.4913\n",
      "Epoch 46/50\n",
      "50000/50000 [==============================] - 2s 37us/step - loss: 0.5633 - acc: 0.8338 - val_loss: 1.5921 - val_acc: 0.4954\n",
      "Epoch 47/50\n",
      "50000/50000 [==============================] - 2s 37us/step - loss: 0.5459 - acc: 0.8425 - val_loss: 1.6358 - val_acc: 0.4910\n",
      "Epoch 48/50\n",
      "50000/50000 [==============================] - 2s 37us/step - loss: 0.5301 - acc: 0.8486 - val_loss: 1.6235 - val_acc: 0.4947\n",
      "Epoch 49/50\n",
      "50000/50000 [==============================] - 2s 37us/step - loss: 0.5123 - acc: 0.8565 - val_loss: 1.6888 - val_acc: 0.4839\n"
     ]
    },
    {
     "name": "stdout",
     "output_type": "stream",
     "text": [
      "Epoch 50/50\n",
      "50000/50000 [==============================] - 2s 37us/step - loss: 0.4963 - acc: 0.8619 - val_loss: 1.6480 - val_acc: 0.4957\n"
     ]
    }
   ],
   "source": [
    "# 載入 Callbacks\n",
    "\"\"\"Code Here\n",
    "設定 callbacks: model checkpoint\n",
    "\"\"\"\n",
    "from keras.callbacks import ModelCheckpoint\n",
    "\n",
    "model_ckpt = ModelCheckpoint(filepath=\"./tmp.h5\", \n",
    "                             monitor=\"val_loss\", \n",
    "                             save_best_only=True) # 還有 save_weights_only 參數\n",
    "\n",
    "\n",
    "\"\"\"Code Here\n",
    "撰寫你的訓練流程並將結果用 dictionary 紀錄\n",
    "\"\"\"\n",
    "\n",
    "model = build_mlp(input_shape=x_train.shape[1:])\n",
    "model.summary()\n",
    "optimizer = keras.optimizers.SGD(lr=LEARNING_RATE, nesterov=True, momentum=MOMENTUM)\n",
    "model.compile(loss=\"categorical_crossentropy\", metrics=[\"accuracy\"], optimizer=optimizer)\n",
    "\n",
    "model.fit(x_train, \n",
    "          y_train, \n",
    "          epochs=EPOCHS, \n",
    "          batch_size=BATCH_SIZE, \n",
    "          validation_data=(x_test, y_test), \n",
    "          shuffle=True,\n",
    "          callbacks=[model_ckpt]\n",
    "         )\n",
    "\n",
    "# Collect results\n",
    "train_loss = model.history.history[\"loss\"]\n",
    "valid_loss = model.history.history[\"val_loss\"]\n",
    "train_acc = model.history.history[\"acc\"]\n",
    "valid_acc = model.history.history[\"val_acc\"]\n"
   ]
  },
  {
   "cell_type": "code",
   "execution_count": 8,
   "metadata": {},
   "outputs": [],
   "source": [
    "# Load back\n",
    "model_best = keras.models.load_model(\"./tmp.h5\")"
   ]
  },
  {
   "cell_type": "code",
   "execution_count": 9,
   "metadata": {},
   "outputs": [
    {
     "name": "stdout",
     "output_type": "stream",
     "text": [
      "10000/10000 [==============================] - 1s 54us/step\n",
      "10000/10000 [==============================] - 1s 64us/step\n",
      "Accuracy of final weights: 0.496\n",
      "Accuracy of best weights: 0.495\n"
     ]
    }
   ],
   "source": [
    "# 法1\n",
    "loss, acc = model.evaluate(x_test, y_test)\n",
    "loss_loadback, acc_loadback = model_best.evaluate(x_test, y_test)\n",
    "\n",
    "print(\"Accuracy of final weights: %.3f\" % acc)\n",
    "print(\"Accuracy of best weights: %.3f\" % acc_loadback)"
   ]
  },
  {
   "cell_type": "markdown",
   "metadata": {},
   "source": [
    "## [numpy.argmax](https://docs.scipy.org/doc/numpy/reference/generated/numpy.argmax.html)"
   ]
  },
  {
   "cell_type": "code",
   "execution_count": 10,
   "metadata": {},
   "outputs": [
    {
     "name": "stdout",
     "output_type": "stream",
     "text": [
      "Accuracy of final weights: 0.496\n",
      "Accuracy of best weights: 0.495\n"
     ]
    }
   ],
   "source": [
    "# 法2\n",
    "pred_final = model.predict(x_test)\n",
    "pred_loadback = model_best.predict(x_test)\n",
    "\n",
    "from sklearn.metrics import accuracy_score\n",
    "\n",
    "final_model_acc = accuracy_score(y_true=y_test.argmax(axis=-1), y_pred=pred_final.argmax(axis=-1))\n",
    "loadback_acc = accuracy_score(y_true=y_test.argmax(axis=-1), y_pred=pred_loadback.argmax(axis=-1))\n",
    "\n",
    "print(\"Accuracy of final weights: %.3f\" % final_model_acc)\n",
    "print(\"Accuracy of best weights: %.3f\" % loadback_acc)"
   ]
  },
  {
   "cell_type": "code",
   "execution_count": 11,
   "metadata": {
    "scrolled": true
   },
   "outputs": [
    {
     "data": {
      "image/png": "[encoded data removed]",
      "text/plain": [
       "<Figure size 432x288 with 1 Axes>"
      ]
     },
     "metadata": {
      "needs_background": "light"
     },
     "output_type": "display_data"
    },
    {
     "data": {
      "image/png": "[encoded data removed]",
      "text/plain": [
       "<Figure size 432x288 with 1 Axes>"
      ]
     },
     "metadata": {
      "needs_background": "light"
     },
     "output_type": "display_data"
    }
   ],
   "source": [
    "import matplotlib.pyplot as plt\n",
    "%matplotlib inline\n",
    "\"\"\"Code Here\n",
    "將結果繪出\n",
    "\"\"\"\n",
    "\n",
    "plt.plot(range(len(train_loss)), train_loss, label=\"train loss\")\n",
    "plt.plot(range(len(valid_loss)), valid_loss, label=\"valid loss\")\n",
    "plt.hlines(y=loss_loadback, xmin=0, xmax=len(train_loss), colors='r', linestyles='--')\n",
    "plt.legend()\n",
    "plt.title(\"Loss\")\n",
    "plt.show()\n",
    "\n",
    "plt.plot(range(len(train_acc)), train_acc, label=\"train accuracy\")\n",
    "plt.plot(range(len(valid_acc)), valid_acc, label=\"valid accuracy\")\n",
    "plt.hlines(y=acc_loadback, xmin=0, xmax=len(train_loss), colors='r', linestyles='--')\n",
    "plt.legend()\n",
    "plt.title(\"Accuracy\")\n",
    "plt.show()"
   ]
  }
 ],
 "metadata": {
  "kernelspec": {
   "display_name": "Python 3",
   "language": "python",
   "name": "python3"
  },
  "language_info": {
   "codemirror_mode": {
    "name": "ipython",
    "version": 3
   },
   "file_extension": ".py",
   "mimetype": "text/x-python",
   "name": "python",
   "nbconvert_exporter": "python",
   "pygments_lexer": "ipython3",
   "version": "3.6.8"
  }
 },
 "nbformat": 4,
 "nbformat_minor": 2
}
