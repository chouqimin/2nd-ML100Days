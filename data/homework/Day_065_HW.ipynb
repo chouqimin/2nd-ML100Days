{
 "cells": [
  {
   "cell_type": "markdown",
   "metadata": {},
   "source": [
    "# 作業\n",
    "* 選擇分類資料集(右下)-螺旋雙臂 - 交錯六群，限定特徵只能使用前兩個，隱藏層 2 層滿 (共 8 * 2 =16 個神經元)，  \n",
    "  遞迴次數只允許跑到500次，但可以自由調整 批次大小、學習速率、啟動函數、正規化選項與參數\n",
    "* 在上述限制下，挑戰看看測試誤差 (Test Loss) 最低能到多少? 請回答你的上述幾項參數與 Test Loss 數\n",
    "> Epoch 500的情況下，Batch size:1、Learning rate:0.03、Activation:Relu，Test Loss較低，數值為0.016，如下圖。\n",
    "    - 但Epoch 跑至1021 時卻又發散了"
   ]
  },
  {
   "cell_type": "markdown",
   "metadata": {
    "collapsed": true
   },
   "source": [
    "# Batch size:1、Learning rate:0.03、Activation:Relu\n",
    "> Epoch 502，Test Loss很低看似不錯，但...跑一陣子後\n",
    "\n",
    "![](./Day_065_HW_使用relu_v1.JPG)\n",
    "\n",
    "\n",
    "# Batch size:1、Learning rate:0.03、Activation:Relu\n",
    "> Epoch 1021 卻又發散，收斂速度較快，但學習曲線不穩定，看似收斂完的結果也有可能會發散\n",
    "\n",
    "![](./Day_065_HW_使用relu_v2.JPG)"
   ]
  },
  {
   "cell_type": "markdown",
   "metadata": {
    "collapsed": true
   },
   "source": [
    "# Batch size:5、Learning rate:0.03、Activation:Relu\n",
    "> 相比Batch size:1 學習曲線較穩定\n",
    "\n",
    "![](./Day_065_HW_使用relu_v3.JPG)"
   ]
  }
 ],
 "metadata": {
  "kernelspec": {
   "display_name": "Python 3",
   "language": "python",
   "name": "python3"
  },
  "language_info": {
   "codemirror_mode": {
    "name": "ipython",
    "version": 3
   },
   "file_extension": ".py",
   "mimetype": "text/x-python",
   "name": "python",
   "nbconvert_exporter": "python",
   "pygments_lexer": "ipython3",
   "version": "3.7.1"
  }
 },
 "nbformat": 4,
 "nbformat_minor": 2
}
