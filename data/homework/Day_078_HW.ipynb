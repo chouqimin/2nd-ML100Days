{
 "cells": [
  {
   "cell_type": "markdown",
   "metadata": {},
   "source": [
    "## Work\n",
    "1. 請嘗試將 preproc_x 替換成以每筆資料的 min/max 進行標準化至 -1 ~ 1 間，再進行訓練\n",
    "2. 請嘗試將 mlp 疊更深 (e.g 5~10 層)，進行訓練後觀察 learning curve 的走勢\n",
    "3. (optional) 請改用 GPU 進行訓練 (如果你有 GPU 的話)，比較使用 CPU 與 GPU 的訓練速度"
   ]
  },
  {
   "cell_type": "markdown",
   "metadata": {},
   "source": [
    "# 確認硬體資源\n",
    "\n",
    "如果你是在 Linux, 若是在 Windows, [請參考](https://blog.csdn.net/idwtwt/article/details/78017565)\n",
    "\n",
    "# !nvidia-smi"
   ]
  },
  {
   "cell_type": "markdown",
   "metadata": {},
   "source": [
    "# 選擇使用GPU或CPU"
   ]
  },
  {
   "cell_type": "code",
   "execution_count": 1,
   "metadata": {},
   "outputs": [
    {
     "name": "stderr",
     "output_type": "stream",
     "text": [
      "Using TensorFlow backend.\n"
     ]
    }
   ],
   "source": [
    "import os\n",
    "import keras\n",
    "\n",
    "# 請嘗試設定 GPU：os.environ\n",
    "\n",
    "\n",
    "# 啟用 GPU, 將 GPU 設定在有空檔的 GPU\n",
    "os.environ[\"CUDA_DEVICE_ORDER\"]=\"PCI_BUS_ID\" # 設定 smi 看到的 GPU ID 符合實際設定的順序 (若一台機器有多張不同型號的卡時，會有此類問題)\n",
    "os.environ[\"CUDA_VISIBLE_DEVICES\"] = \"0\"\n",
    "\n",
    "\n",
    "# 本範例不需使用 GPU, 將 GPU 設定為 \"無\"\n",
    "# os.environ[\"CUDA_VISIBLE_DEVICES\"] = \"\""
   ]
  },
  {
   "cell_type": "code",
   "execution_count": 2,
   "metadata": {},
   "outputs": [],
   "source": [
    "train, test = keras.datasets.cifar10.load_data()"
   ]
  },
  {
   "cell_type": "code",
   "execution_count": 3,
   "metadata": {},
   "outputs": [],
   "source": [
    "## 資料前處理\n",
    "\"\"\"\n",
    "Your code here\n",
    "\"\"\"\n",
    "def preproc_x(x, flatten=True):\n",
    "    x = x / 255\n",
    "    if flatten:\n",
    "        x = x.reshape(len(x), -1)\n",
    "    return x\n",
    "\n",
    "def preproc_y(y, num_classes=10):\n",
    "    if y.shape[-1] == 1:\n",
    "        y = keras.utils.to_categorical(y, num_classes)\n",
    "    return y"
   ]
  },
  {
   "cell_type": "code",
   "execution_count": 4,
   "metadata": {},
   "outputs": [],
   "source": [
    "x_train, y_train = train\n",
    "x_test, y_test = test\n",
    "\n",
    "# 資料前處理 - X 標準化\n",
    "# Preproc the inputs\n",
    "x_train = preproc_x(x_train)\n",
    "x_test = preproc_x(x_test)\n",
    "\n",
    "# 資料前處理 -Y 轉成 onehot\n",
    "# Preprc the outputs\n",
    "y_train = preproc_y(y_train)\n",
    "y_test = preproc_y(y_test)"
   ]
  },
  {
   "cell_type": "code",
   "execution_count": 5,
   "metadata": {},
   "outputs": [
    {
     "name": "stderr",
     "output_type": "stream",
     "text": [
      "WARNING: Logging before flag parsing goes to stderr.\n",
      "W0715 00:06:06.240891 11176 deprecation_wrapper.py:119] From C:\\Users\\user\\Anaconda3\\lib\\site-packages\\keras\\backend\\tensorflow_backend.py:74: The name tf.get_default_graph is deprecated. Please use tf.compat.v1.get_default_graph instead.\n",
      "\n",
      "W0715 00:06:06.257885 11176 deprecation_wrapper.py:119] From C:\\Users\\user\\Anaconda3\\lib\\site-packages\\keras\\backend\\tensorflow_backend.py:517: The name tf.placeholder is deprecated. Please use tf.compat.v1.placeholder instead.\n",
      "\n",
      "W0715 00:06:06.261883 11176 deprecation_wrapper.py:119] From C:\\Users\\user\\Anaconda3\\lib\\site-packages\\keras\\backend\\tensorflow_backend.py:4138: The name tf.random_uniform is deprecated. Please use tf.random.uniform instead.\n",
      "\n"
     ]
    },
    {
     "name": "stdout",
     "output_type": "stream",
     "text": [
      "_________________________________________________________________\n",
      "Layer (type)                 Output Shape              Param #   \n",
      "=================================================================\n",
      "input_1 (InputLayer)         (None, 3072)              0         \n",
      "_________________________________________________________________\n",
      "hidden_layer1 (Dense)        (None, 512)               1573376   \n",
      "_________________________________________________________________\n",
      "hidden_layer2 (Dense)        (None, 256)               131328    \n",
      "_________________________________________________________________\n",
      "hidden_layer3 (Dense)        (None, 128)               32896     \n",
      "_________________________________________________________________\n",
      "hidden_layer4 (Dense)        (None, 32)                4128      \n",
      "_________________________________________________________________\n",
      "hidden_layer5 (Dense)        (None, 16)                528       \n",
      "_________________________________________________________________\n",
      "output (Dense)               (None, 10)                170       \n",
      "=================================================================\n",
      "Total params: 1,742,426\n",
      "Trainable params: 1,742,426\n",
      "Non-trainable params: 0\n",
      "_________________________________________________________________\n"
     ]
    }
   ],
   "source": [
    "\"\"\"Code Here\n",
    "建立你的神經網路\n",
    "\"\"\"\n",
    "def build_mlp(input_shape, output_units=10, num_neurons=[2**9, 2**8, 2**7, 2**5, 2**4]):\n",
    "    input_layer = keras.layers.Input(input_shape)\n",
    "    \n",
    "    for i, n_units in enumerate(num_neurons):\n",
    "        if i == 0:\n",
    "            x = keras.layers.Dense(units=n_units, activation=\"relu\", name=f\"hidden_layer{i+1}\")(input_layer)\n",
    "        else:\n",
    "            x = keras.layers.Dense(units=n_units, activation=\"relu\", name=f\"hidden_layer{i+1}\")(x)\n",
    "            \n",
    "    out = keras.layers.Dense(units=output_units, activation=\"softmax\", name=\"output\")(x)\n",
    "    \n",
    "    model = keras.models.Model(inputs=[input_layer], outputs=[out])\n",
    "    return model\n",
    "\n",
    "model = build_mlp(input_shape=x_train.shape[1:])\n",
    "model.summary()"
   ]
  },
  {
   "cell_type": "code",
   "execution_count": 6,
   "metadata": {},
   "outputs": [],
   "source": [
    "## 超參數設定\n",
    "LEARNING_RATE = 0.001\n",
    "EPOCHS = 100\n",
    "BATCH_SIZE = 256"
   ]
  },
  {
   "cell_type": "code",
   "execution_count": 7,
   "metadata": {},
   "outputs": [
    {
     "name": "stderr",
     "output_type": "stream",
     "text": [
      "W0715 00:06:06.384845 11176 deprecation_wrapper.py:119] From C:\\Users\\user\\Anaconda3\\lib\\site-packages\\keras\\optimizers.py:790: The name tf.train.Optimizer is deprecated. Please use tf.compat.v1.train.Optimizer instead.\n",
      "\n",
      "W0715 00:06:06.392842 11176 deprecation_wrapper.py:119] From C:\\Users\\user\\Anaconda3\\lib\\site-packages\\keras\\backend\\tensorflow_backend.py:3295: The name tf.log is deprecated. Please use tf.math.log instead.\n",
      "\n"
     ]
    }
   ],
   "source": [
    "optimizer = keras.optimizers.Adam(lr=LEARNING_RATE)\n",
    "model.compile(loss=\"categorical_crossentropy\", metrics=[\"accuracy\"], optimizer=optimizer)"
   ]
  },
  {
   "cell_type": "code",
   "execution_count": 8,
   "metadata": {},
   "outputs": [
    {
     "name": "stderr",
     "output_type": "stream",
     "text": [
      "W0715 00:06:06.502807 11176 deprecation.py:323] From C:\\Users\\user\\Anaconda3\\lib\\site-packages\\tensorflow\\python\\ops\\math_grad.py:1250: add_dispatch_support.<locals>.wrapper (from tensorflow.python.ops.array_ops) is deprecated and will be removed in a future version.\n",
      "Instructions for updating:\n",
      "Use tf.where in 2.0, which has the same broadcast rule as np.where\n",
      "W0715 00:06:06.568786 11176 deprecation_wrapper.py:119] From C:\\Users\\user\\Anaconda3\\lib\\site-packages\\keras\\backend\\tensorflow_backend.py:986: The name tf.assign_add is deprecated. Please use tf.compat.v1.assign_add instead.\n",
      "\n"
     ]
    },
    {
     "name": "stdout",
     "output_type": "stream",
     "text": [
      "Train on 50000 samples, validate on 10000 samples\n",
      "Epoch 1/100\n",
      "50000/50000 [==============================] - 5s 93us/step - loss: 2.1160 - acc: 0.2157 - val_loss: 1.9214 - val_acc: 0.2964\n",
      "Epoch 2/100\n",
      "50000/50000 [==============================] - 3s 58us/step - loss: 1.8574 - acc: 0.3238 - val_loss: 1.7664 - val_acc: 0.3632\n",
      "Epoch 3/100\n",
      "50000/50000 [==============================] - 3s 59us/step - loss: 1.7349 - acc: 0.3726 - val_loss: 1.6736 - val_acc: 0.3954\n",
      "Epoch 4/100\n",
      "50000/50000 [==============================] - 3s 59us/step - loss: 1.6431 - acc: 0.4073 - val_loss: 1.6079 - val_acc: 0.4158\n",
      "Epoch 5/100\n",
      "50000/50000 [==============================] - 3s 58us/step - loss: 1.5770 - acc: 0.4339 - val_loss: 1.5639 - val_acc: 0.4398\n",
      "Epoch 6/100\n",
      "50000/50000 [==============================] - 3s 59us/step - loss: 1.5409 - acc: 0.4460 - val_loss: 1.5444 - val_acc: 0.4471\n",
      "Epoch 7/100\n",
      "50000/50000 [==============================] - 3s 59us/step - loss: 1.5030 - acc: 0.4590 - val_loss: 1.5172 - val_acc: 0.4610\n",
      "Epoch 8/100\n",
      "50000/50000 [==============================] - 3s 59us/step - loss: 1.4692 - acc: 0.4709 - val_loss: 1.4836 - val_acc: 0.4673\n",
      "Epoch 9/100\n",
      "50000/50000 [==============================] - 3s 59us/step - loss: 1.4344 - acc: 0.4860 - val_loss: 1.4763 - val_acc: 0.4760\n",
      "Epoch 10/100\n",
      "50000/50000 [==============================] - 3s 59us/step - loss: 1.4169 - acc: 0.4922 - val_loss: 1.4639 - val_acc: 0.4857\n",
      "Epoch 11/100\n",
      "50000/50000 [==============================] - 3s 59us/step - loss: 1.3906 - acc: 0.5014 - val_loss: 1.4366 - val_acc: 0.4867\n",
      "Epoch 12/100\n",
      "50000/50000 [==============================] - 3s 59us/step - loss: 1.3682 - acc: 0.5099 - val_loss: 1.4406 - val_acc: 0.4842\n",
      "Epoch 13/100\n",
      "50000/50000 [==============================] - 3s 59us/step - loss: 1.3429 - acc: 0.5182 - val_loss: 1.4395 - val_acc: 0.4904\n",
      "Epoch 14/100\n",
      "50000/50000 [==============================] - 3s 59us/step - loss: 1.3110 - acc: 0.5297 - val_loss: 1.4031 - val_acc: 0.4990\n",
      "Epoch 15/100\n",
      "50000/50000 [==============================] - 3s 58us/step - loss: 1.2992 - acc: 0.5313 - val_loss: 1.4308 - val_acc: 0.4929\n",
      "Epoch 16/100\n",
      "50000/50000 [==============================] - 3s 58us/step - loss: 1.2717 - acc: 0.5418 - val_loss: 1.4189 - val_acc: 0.4901\n",
      "Epoch 17/100\n",
      "50000/50000 [==============================] - 3s 58us/step - loss: 1.2572 - acc: 0.5496 - val_loss: 1.4082 - val_acc: 0.5088\n",
      "Epoch 18/100\n",
      "50000/50000 [==============================] - 3s 59us/step - loss: 1.2287 - acc: 0.5611 - val_loss: 1.4029 - val_acc: 0.5106\n",
      "Epoch 19/100\n",
      "50000/50000 [==============================] - 3s 58us/step - loss: 1.2165 - acc: 0.5642 - val_loss: 1.3985 - val_acc: 0.5056\n",
      "Epoch 20/100\n",
      "50000/50000 [==============================] - 3s 58us/step - loss: 1.2033 - acc: 0.5674 - val_loss: 1.3897 - val_acc: 0.5138\n",
      "Epoch 21/100\n",
      "50000/50000 [==============================] - 3s 58us/step - loss: 1.1811 - acc: 0.5732 - val_loss: 1.4202 - val_acc: 0.5075\n",
      "Epoch 22/100\n",
      "50000/50000 [==============================] - 3s 58us/step - loss: 1.1610 - acc: 0.5821 - val_loss: 1.3832 - val_acc: 0.5210\n",
      "Epoch 23/100\n",
      "50000/50000 [==============================] - 3s 57us/step - loss: 1.1486 - acc: 0.5859 - val_loss: 1.3581 - val_acc: 0.5264\n",
      "Epoch 24/100\n",
      "50000/50000 [==============================] - 3s 58us/step - loss: 1.1184 - acc: 0.6001 - val_loss: 1.3819 - val_acc: 0.5187\n",
      "Epoch 25/100\n",
      "50000/50000 [==============================] - 3s 58us/step - loss: 1.1097 - acc: 0.6024 - val_loss: 1.3710 - val_acc: 0.5254\n",
      "Epoch 26/100\n",
      "50000/50000 [==============================] - 3s 58us/step - loss: 1.0971 - acc: 0.6040 - val_loss: 1.4009 - val_acc: 0.5218\n",
      "Epoch 27/100\n",
      "50000/50000 [==============================] - 3s 58us/step - loss: 1.0724 - acc: 0.6140 - val_loss: 1.4048 - val_acc: 0.5213\n",
      "Epoch 28/100\n",
      "50000/50000 [==============================] - 3s 58us/step - loss: 1.0557 - acc: 0.6189 - val_loss: 1.3852 - val_acc: 0.5271\n",
      "Epoch 29/100\n",
      "50000/50000 [==============================] - 3s 57us/step - loss: 1.0374 - acc: 0.6289 - val_loss: 1.4810 - val_acc: 0.5042\n",
      "Epoch 30/100\n",
      "50000/50000 [==============================] - 3s 58us/step - loss: 1.0242 - acc: 0.6338 - val_loss: 1.4050 - val_acc: 0.5189\n",
      "Epoch 31/100\n",
      "50000/50000 [==============================] - 3s 58us/step - loss: 1.0036 - acc: 0.6388 - val_loss: 1.4270 - val_acc: 0.5183\n",
      "Epoch 32/100\n",
      "50000/50000 [==============================] - 3s 58us/step - loss: 0.9843 - acc: 0.6459 - val_loss: 1.4588 - val_acc: 0.5104\n",
      "Epoch 33/100\n",
      "50000/50000 [==============================] - 3s 58us/step - loss: 0.9746 - acc: 0.6474 - val_loss: 1.4692 - val_acc: 0.5196\n",
      "Epoch 34/100\n",
      "50000/50000 [==============================] - 3s 58us/step - loss: 0.9606 - acc: 0.6535 - val_loss: 1.4537 - val_acc: 0.5227\n",
      "Epoch 35/100\n",
      "50000/50000 [==============================] - 3s 58us/step - loss: 0.9430 - acc: 0.6602 - val_loss: 1.4598 - val_acc: 0.5342\n",
      "Epoch 36/100\n",
      "50000/50000 [==============================] - 3s 59us/step - loss: 0.9284 - acc: 0.6645 - val_loss: 1.4831 - val_acc: 0.5149\n",
      "Epoch 37/100\n",
      "50000/50000 [==============================] - 3s 58us/step - loss: 0.9054 - acc: 0.6724 - val_loss: 1.5119 - val_acc: 0.5145\n",
      "Epoch 38/100\n",
      "50000/50000 [==============================] - 3s 60us/step - loss: 0.8872 - acc: 0.6804 - val_loss: 1.4947 - val_acc: 0.5197\n",
      "Epoch 39/100\n",
      "50000/50000 [==============================] - 3s 59us/step - loss: 0.8768 - acc: 0.6845 - val_loss: 1.5061 - val_acc: 0.5277\n",
      "Epoch 40/100\n",
      "50000/50000 [==============================] - 3s 59us/step - loss: 0.8755 - acc: 0.6851 - val_loss: 1.5359 - val_acc: 0.5184\n",
      "Epoch 41/100\n",
      "50000/50000 [==============================] - 3s 59us/step - loss: 0.8463 - acc: 0.6949 - val_loss: 1.5195 - val_acc: 0.5183\n",
      "Epoch 42/100\n",
      "50000/50000 [==============================] - 3s 59us/step - loss: 0.8419 - acc: 0.6957 - val_loss: 1.5599 - val_acc: 0.5174\n",
      "Epoch 43/100\n",
      "50000/50000 [==============================] - 3s 58us/step - loss: 0.8251 - acc: 0.6999 - val_loss: 1.5996 - val_acc: 0.5169\n",
      "Epoch 44/100\n",
      "50000/50000 [==============================] - 3s 58us/step - loss: 0.8113 - acc: 0.7070 - val_loss: 1.6656 - val_acc: 0.5125\n",
      "Epoch 45/100\n",
      "50000/50000 [==============================] - 3s 59us/step - loss: 0.7910 - acc: 0.7162 - val_loss: 1.6154 - val_acc: 0.5180\n",
      "Epoch 46/100\n",
      "50000/50000 [==============================] - 3s 59us/step - loss: 0.7785 - acc: 0.7191 - val_loss: 1.6755 - val_acc: 0.5131\n",
      "Epoch 47/100\n",
      "50000/50000 [==============================] - 3s 59us/step - loss: 0.7706 - acc: 0.7234 - val_loss: 1.6780 - val_acc: 0.5112\n",
      "Epoch 48/100\n",
      "50000/50000 [==============================] - 3s 58us/step - loss: 0.7549 - acc: 0.7281 - val_loss: 1.6545 - val_acc: 0.5245\n",
      "Epoch 49/100\n",
      "50000/50000 [==============================] - 3s 58us/step - loss: 0.7487 - acc: 0.7303 - val_loss: 1.6891 - val_acc: 0.5111\n",
      "Epoch 50/100\n",
      "50000/50000 [==============================] - 3s 58us/step - loss: 0.7390 - acc: 0.7342 - val_loss: 1.6854 - val_acc: 0.5203\n",
      "Epoch 51/100\n",
      "50000/50000 [==============================] - 3s 59us/step - loss: 0.7345 - acc: 0.7351 - val_loss: 1.7102 - val_acc: 0.5078\n",
      "Epoch 52/100\n",
      "50000/50000 [==============================] - 3s 59us/step - loss: 0.7117 - acc: 0.7434 - val_loss: 1.7455 - val_acc: 0.5165\n",
      "Epoch 53/100\n",
      "50000/50000 [==============================] - 3s 59us/step - loss: 0.6983 - acc: 0.7498 - val_loss: 1.7922 - val_acc: 0.5059\n",
      "Epoch 54/100\n",
      "50000/50000 [==============================] - 3s 58us/step - loss: 0.6772 - acc: 0.7547 - val_loss: 1.7851 - val_acc: 0.5197\n",
      "Epoch 55/100\n",
      "50000/50000 [==============================] - 3s 59us/step - loss: 0.6722 - acc: 0.7570 - val_loss: 1.7892 - val_acc: 0.5184\n",
      "Epoch 56/100\n",
      "50000/50000 [==============================] - 3s 59us/step - loss: 0.6684 - acc: 0.7574 - val_loss: 1.8422 - val_acc: 0.5208\n",
      "Epoch 57/100\n",
      "50000/50000 [==============================] - 3s 59us/step - loss: 0.6503 - acc: 0.7655 - val_loss: 1.8404 - val_acc: 0.5117\n",
      "Epoch 58/100\n",
      "50000/50000 [==============================] - 3s 59us/step - loss: 0.6527 - acc: 0.7662 - val_loss: 1.9071 - val_acc: 0.5135\n",
      "Epoch 59/100\n"
     ]
    },
    {
     "name": "stdout",
     "output_type": "stream",
     "text": [
      "50000/50000 [==============================] - 3s 58us/step - loss: 0.6341 - acc: 0.7699 - val_loss: 1.8946 - val_acc: 0.5175\n",
      "Epoch 60/100\n",
      "50000/50000 [==============================] - 3s 59us/step - loss: 0.6336 - acc: 0.7723 - val_loss: 1.8928 - val_acc: 0.5122\n",
      "Epoch 61/100\n",
      "50000/50000 [==============================] - 3s 59us/step - loss: 0.6139 - acc: 0.7794 - val_loss: 1.9853 - val_acc: 0.5009\n",
      "Epoch 62/100\n",
      "50000/50000 [==============================] - 3s 59us/step - loss: 0.6181 - acc: 0.7769 - val_loss: 1.9927 - val_acc: 0.5080\n",
      "Epoch 63/100\n",
      "50000/50000 [==============================] - 3s 59us/step - loss: 0.6048 - acc: 0.7830 - val_loss: 1.9950 - val_acc: 0.5018\n",
      "Epoch 64/100\n",
      "50000/50000 [==============================] - 3s 58us/step - loss: 0.5894 - acc: 0.7896 - val_loss: 1.9920 - val_acc: 0.5089\n",
      "Epoch 65/100\n",
      "50000/50000 [==============================] - 3s 58us/step - loss: 0.5774 - acc: 0.7938 - val_loss: 2.1086 - val_acc: 0.5026\n",
      "Epoch 66/100\n",
      "50000/50000 [==============================] - 3s 59us/step - loss: 0.5588 - acc: 0.8008 - val_loss: 2.1138 - val_acc: 0.5031\n",
      "Epoch 67/100\n",
      "50000/50000 [==============================] - 3s 58us/step - loss: 0.5653 - acc: 0.7975 - val_loss: 2.0282 - val_acc: 0.5056\n",
      "Epoch 68/100\n",
      "50000/50000 [==============================] - 3s 59us/step - loss: 0.5585 - acc: 0.7985 - val_loss: 2.1088 - val_acc: 0.5122\n",
      "Epoch 69/100\n",
      "50000/50000 [==============================] - 3s 59us/step - loss: 0.5259 - acc: 0.8120 - val_loss: 2.1318 - val_acc: 0.5058\n",
      "Epoch 70/100\n",
      "50000/50000 [==============================] - 3s 59us/step - loss: 0.5251 - acc: 0.8114 - val_loss: 2.1933 - val_acc: 0.4966\n",
      "Epoch 71/100\n",
      "50000/50000 [==============================] - 3s 59us/step - loss: 0.5551 - acc: 0.8022 - val_loss: 2.1511 - val_acc: 0.5139\n",
      "Epoch 72/100\n",
      "50000/50000 [==============================] - 3s 59us/step - loss: 0.5219 - acc: 0.8114 - val_loss: 2.1704 - val_acc: 0.5058\n",
      "Epoch 73/100\n",
      "50000/50000 [==============================] - 3s 58us/step - loss: 0.5475 - acc: 0.8026 - val_loss: 2.2803 - val_acc: 0.4954\n",
      "Epoch 74/100\n",
      "50000/50000 [==============================] - 3s 59us/step - loss: 0.5208 - acc: 0.8140 - val_loss: 2.1645 - val_acc: 0.5055\n",
      "Epoch 75/100\n",
      "50000/50000 [==============================] - 3s 59us/step - loss: 0.4984 - acc: 0.8232 - val_loss: 2.2494 - val_acc: 0.5029\n",
      "Epoch 76/100\n",
      "50000/50000 [==============================] - 3s 59us/step - loss: 0.4997 - acc: 0.8222 - val_loss: 2.2534 - val_acc: 0.4980\n",
      "Epoch 77/100\n",
      "50000/50000 [==============================] - 3s 59us/step - loss: 0.4752 - acc: 0.8309 - val_loss: 2.3635 - val_acc: 0.5065\n",
      "Epoch 78/100\n",
      "50000/50000 [==============================] - 3s 59us/step - loss: 0.4707 - acc: 0.8295 - val_loss: 2.3292 - val_acc: 0.5043\n",
      "Epoch 79/100\n",
      "50000/50000 [==============================] - 3s 59us/step - loss: 0.4883 - acc: 0.8246 - val_loss: 2.3020 - val_acc: 0.4972\n",
      "Epoch 80/100\n",
      "50000/50000 [==============================] - 3s 59us/step - loss: 0.4620 - acc: 0.8341 - val_loss: 2.4224 - val_acc: 0.5016\n",
      "Epoch 81/100\n",
      "50000/50000 [==============================] - 3s 59us/step - loss: 0.4515 - acc: 0.8377 - val_loss: 2.4409 - val_acc: 0.4959\n",
      "Epoch 82/100\n",
      "50000/50000 [==============================] - 3s 60us/step - loss: 0.4454 - acc: 0.8403 - val_loss: 2.4837 - val_acc: 0.4954\n",
      "Epoch 83/100\n",
      "50000/50000 [==============================] - 3s 60us/step - loss: 0.4589 - acc: 0.8337 - val_loss: 2.4029 - val_acc: 0.5046\n",
      "Epoch 84/100\n",
      "50000/50000 [==============================] - 3s 59us/step - loss: 0.4381 - acc: 0.8431 - val_loss: 2.4704 - val_acc: 0.4955\n",
      "Epoch 85/100\n",
      "50000/50000 [==============================] - 3s 59us/step - loss: 0.4318 - acc: 0.8446 - val_loss: 2.5035 - val_acc: 0.4989\n",
      "Epoch 86/100\n",
      "50000/50000 [==============================] - 3s 59us/step - loss: 0.4190 - acc: 0.8493 - val_loss: 2.5298 - val_acc: 0.4975\n",
      "Epoch 87/100\n",
      "50000/50000 [==============================] - 3s 59us/step - loss: 0.4236 - acc: 0.8483 - val_loss: 2.5584 - val_acc: 0.5034\n",
      "Epoch 88/100\n",
      "50000/50000 [==============================] - 3s 59us/step - loss: 0.4217 - acc: 0.8491 - val_loss: 2.5962 - val_acc: 0.4956\n",
      "Epoch 89/100\n",
      "50000/50000 [==============================] - 3s 60us/step - loss: 0.4196 - acc: 0.8505 - val_loss: 2.6051 - val_acc: 0.5004\n",
      "Epoch 90/100\n",
      "50000/50000 [==============================] - 3s 59us/step - loss: 0.4161 - acc: 0.8501 - val_loss: 2.7075 - val_acc: 0.4947\n",
      "Epoch 91/100\n",
      "50000/50000 [==============================] - 3s 59us/step - loss: 0.4007 - acc: 0.8562 - val_loss: 2.6447 - val_acc: 0.5037\n",
      "Epoch 92/100\n",
      "50000/50000 [==============================] - 3s 59us/step - loss: 0.3980 - acc: 0.8580 - val_loss: 2.7437 - val_acc: 0.4986\n",
      "Epoch 93/100\n",
      "50000/50000 [==============================] - 3s 59us/step - loss: 0.4282 - acc: 0.8457 - val_loss: 2.7369 - val_acc: 0.4965\n",
      "Epoch 94/100\n",
      "50000/50000 [==============================] - 3s 58us/step - loss: 0.3926 - acc: 0.8589 - val_loss: 2.6753 - val_acc: 0.4991\n",
      "Epoch 95/100\n",
      "50000/50000 [==============================] - 3s 59us/step - loss: 0.3823 - acc: 0.8641 - val_loss: 2.7212 - val_acc: 0.4925\n",
      "Epoch 96/100\n",
      "50000/50000 [==============================] - 3s 60us/step - loss: 0.3833 - acc: 0.8618 - val_loss: 2.8028 - val_acc: 0.4982\n",
      "Epoch 97/100\n",
      "50000/50000 [==============================] - 3s 59us/step - loss: 0.3832 - acc: 0.8622 - val_loss: 2.8452 - val_acc: 0.4961\n",
      "Epoch 98/100\n",
      "50000/50000 [==============================] - 3s 58us/step - loss: 0.3710 - acc: 0.8683 - val_loss: 2.8291 - val_acc: 0.4988\n",
      "Epoch 99/100\n",
      "50000/50000 [==============================] - 3s 58us/step - loss: 0.3473 - acc: 0.8764 - val_loss: 2.8814 - val_acc: 0.4981\n",
      "Epoch 100/100\n",
      "50000/50000 [==============================] - 3s 59us/step - loss: 0.3436 - acc: 0.8777 - val_loss: 2.8951 - val_acc: 0.4975\n"
     ]
    },
    {
     "data": {
      "text/plain": [
       "<keras.callbacks.History at 0x23532703278>"
      ]
     },
     "execution_count": 8,
     "metadata": {},
     "output_type": "execute_result"
    }
   ],
   "source": [
    "model.fit(x_train, \n",
    "          y_train, \n",
    "          epochs=EPOCHS, \n",
    "          batch_size=BATCH_SIZE, \n",
    "          validation_data=(x_test, y_test), \n",
    "          shuffle=True)"
   ]
  },
  {
   "cell_type": "code",
   "execution_count": 9,
   "metadata": {},
   "outputs": [
    {
     "data": {
      "image/png": "[encoded data removed]",
      "text/plain": [
       "<Figure size 432x288 with 1 Axes>"
      ]
     },
     "metadata": {
      "needs_background": "light"
     },
     "output_type": "display_data"
    },
    {
     "data": {
      "image/png": "[encoded data removed]",
      "text/plain": [
       "<Figure size 432x288 with 1 Axes>"
      ]
     },
     "metadata": {
      "needs_background": "light"
     },
     "output_type": "display_data"
    }
   ],
   "source": [
    "import matplotlib.pyplot as plt\n",
    "%matplotlib inline\n",
    "\n",
    "\n",
    "train_loss = model.history.history[\"loss\"]\n",
    "valid_loss = model.history.history[\"val_loss\"]\n",
    "\n",
    "train_acc = model.history.history[\"acc\"]\n",
    "valid_acc = model.history.history[\"val_acc\"]\n",
    "\n",
    "plt.plot(range(len(train_loss)), train_loss, label=\"train loss\")\n",
    "plt.plot(range(len(valid_loss)), valid_loss, label=\"valid loss\")\n",
    "plt.legend()\n",
    "plt.title(\"Loss\")\n",
    "plt.show()\n",
    "\n",
    "plt.plot(range(len(train_acc)), train_acc, label=\"train accuracy\")\n",
    "plt.plot(range(len(valid_acc)), valid_acc, label=\"valid accuracy\")\n",
    "plt.legend()\n",
    "plt.title(\"Accuracy\")\n",
    "plt.show()"
   ]
  }
 ],
 "metadata": {
  "kernelspec": {
   "display_name": "Python 3",
   "language": "python",
   "name": "python3"
  },
  "language_info": {
   "codemirror_mode": {
    "name": "ipython",
    "version": 3
   },
   "file_extension": ".py",
   "mimetype": "text/x-python",
   "name": "python",
   "nbconvert_exporter": "python",
   "pygments_lexer": "ipython3",
   "version": "3.6.8"
  }
 },
 "nbformat": 4,
 "nbformat_minor": 2
}
